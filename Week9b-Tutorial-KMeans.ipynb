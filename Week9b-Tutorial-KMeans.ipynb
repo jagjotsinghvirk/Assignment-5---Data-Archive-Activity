{
 "cells": [
  {
   "cell_type": "code",
   "execution_count": 1,
   "metadata": {},
   "outputs": [],
   "source": [
    "#Load Libraries\n",
    "import pandas as pd\n",
    "import numpy as np\n",
    "import matplotlib.pyplot as plt\n",
    "%matplotlib inline  \n",
    "from sklearn.cluster import KMeans\n",
    "from sklearn.metrics import silhouette_score"
   ]
  },
  {
   "cell_type": "code",
   "execution_count": 2,
   "metadata": {},
   "outputs": [
    {
     "data": {
      "text/html": [
       "<div>\n",
       "<style scoped>\n",
       "    .dataframe tbody tr th:only-of-type {\n",
       "        vertical-align: middle;\n",
       "    }\n",
       "\n",
       "    .dataframe tbody tr th {\n",
       "        vertical-align: top;\n",
       "    }\n",
       "\n",
       "    .dataframe thead th {\n",
       "        text-align: right;\n",
       "    }\n",
       "</style>\n",
       "<table border=\"1\" class=\"dataframe\">\n",
       "  <thead>\n",
       "    <tr style=\"text-align: right;\">\n",
       "      <th></th>\n",
       "      <th>Triceps</th>\n",
       "      <th>Thigh</th>\n",
       "      <th>Midarm</th>\n",
       "      <th>Bodyfat</th>\n",
       "    </tr>\n",
       "  </thead>\n",
       "  <tbody>\n",
       "    <tr>\n",
       "      <th>0</th>\n",
       "      <td>19.5</td>\n",
       "      <td>43.1</td>\n",
       "      <td>29.1</td>\n",
       "      <td>11.9</td>\n",
       "    </tr>\n",
       "    <tr>\n",
       "      <th>1</th>\n",
       "      <td>24.7</td>\n",
       "      <td>49.8</td>\n",
       "      <td>28.2</td>\n",
       "      <td>22.8</td>\n",
       "    </tr>\n",
       "    <tr>\n",
       "      <th>2</th>\n",
       "      <td>30.7</td>\n",
       "      <td>51.9</td>\n",
       "      <td>37.0</td>\n",
       "      <td>18.7</td>\n",
       "    </tr>\n",
       "    <tr>\n",
       "      <th>3</th>\n",
       "      <td>29.8</td>\n",
       "      <td>54.3</td>\n",
       "      <td>31.1</td>\n",
       "      <td>20.1</td>\n",
       "    </tr>\n",
       "    <tr>\n",
       "      <th>4</th>\n",
       "      <td>19.1</td>\n",
       "      <td>42.2</td>\n",
       "      <td>30.9</td>\n",
       "      <td>12.9</td>\n",
       "    </tr>\n",
       "  </tbody>\n",
       "</table>\n",
       "</div>"
      ],
      "text/plain": [
       "   Triceps  Thigh  Midarm  Bodyfat\n",
       "0     19.5   43.1    29.1     11.9\n",
       "1     24.7   49.8    28.2     22.8\n",
       "2     30.7   51.9    37.0     18.7\n",
       "3     29.8   54.3    31.1     20.1\n",
       "4     19.1   42.2    30.9     12.9"
      ]
     },
     "execution_count": 2,
     "metadata": {},
     "output_type": "execute_result"
    }
   ],
   "source": [
    "#Load Dataset\n",
    "dataset = pd.read_csv('./bodyfatanalysis.csv')\n",
    "dataset.head()"
   ]
  },
  {
   "cell_type": "code",
   "execution_count": 3,
   "metadata": {},
   "outputs": [],
   "source": [
    "#Create x (we ignore the y variable)\n",
    "x = dataset.drop('Bodyfat', axis=1).to_numpy()\n",
    "\n",
    "#Scale the Data\n",
    "from sklearn.preprocessing import StandardScaler\n",
    "sc = StandardScaler()\n",
    "data_transformed=sc.fit_transform(x)"
   ]
  },
  {
   "cell_type": "code",
   "execution_count": 4,
   "metadata": {},
   "outputs": [
    {
     "name": "stderr",
     "output_type": "stream",
     "text": [
      "C:\\Users\\100274743\\Anaconda3\\lib\\site-packages\\sklearn\\cluster\\_kmeans.py:881: UserWarning: KMeans is known to have a memory leak on Windows with MKL, when there are less chunks than available threads. You can avoid it by setting the environment variable OMP_NUM_THREADS=1.\n",
      "  warnings.warn(\n"
     ]
    },
    {
     "data": {
      "image/png": "[encoded data removed]",
      "text/plain": [
       "<Figure size 432x288 with 1 Axes>"
      ]
     },
     "metadata": {
      "needs_background": "light"
     },
     "output_type": "display_data"
    }
   ],
   "source": [
    "#Determine optimum number of clusters\n",
    "wcss = []\n",
    "for i in range(1, 10):\n",
    "    kmeans = KMeans(n_clusters = i, init = 'k-means++', max_iter = 300, n_init = 10,random_state = 100)\n",
    "    kmeans.fit(data_transformed)\n",
    "    wcss.append(kmeans.inertia_)\n",
    "    \n",
    "#Plot Elbow Method\n",
    "plt.plot(range(1, 10), wcss,marker='o')\n",
    "plt.title('The elbow method')\n",
    "plt.xlabel('Number of clusters')\n",
    "plt.ylabel('WCSS') #within cluster sum of squares\n",
    "plt.show()  "
   ]
  },
  {
   "cell_type": "code",
   "execution_count": 5,
   "metadata": {},
   "outputs": [
    {
     "name": "stdout",
     "output_type": "stream",
     "text": [
      "For n_clusters= 2, The Silhouette Coefficient is 0.4296958633386091\n",
      "For n_clusters= 3, The Silhouette Coefficient is 0.32397711365779935\n",
      "For n_clusters= 4, The Silhouette Coefficient is 0.3162391541452452\n",
      "For n_clusters= 5, The Silhouette Coefficient is 0.3853337926093284\n",
      "For n_clusters= 6, The Silhouette Coefficient is 0.3859104531470531\n",
      "For n_clusters= 7, The Silhouette Coefficient is 0.393753771316145\n",
      "For n_clusters= 8, The Silhouette Coefficient is 0.40426485982852567\n",
      "For n_clusters= 9, The Silhouette Coefficient is 0.4030579909596059\n"
     ]
    },
    {
     "data": {
      "image/png": "[encoded data removed]",
      "text/plain": [
       "<Figure size 432x288 with 1 Axes>"
      ]
     },
     "metadata": {
      "needs_background": "light"
     },
     "output_type": "display_data"
    }
   ],
   "source": [
    "#Create Silhouette Coefficients\n",
    "scores= [0]\n",
    "for n_cluster in range(2, 10):\n",
    "       kmeans = KMeans(n_clusters=n_cluster).fit(x)\n",
    "       label = kmeans.labels_\n",
    "       sil_coeff = silhouette_score(data_transformed, label, metric='euclidean')\n",
    "       scores.append(sil_coeff) \n",
    "       print('For n_clusters= {}, The Silhouette Coefficient is {}'.format(n_cluster, sil_coeff))\n",
    "\n",
    "#Plot Silhouette\n",
    "plt.plot(range(1,10), scores, marker='o')\n",
    "plt.title('The Silhouette method')\n",
    "plt.xlabel('Number of clusters')\n",
    "plt.ylabel('Sihouette Coefficient') \n",
    "plt.show()        "
   ]
  },
  {
   "cell_type": "code",
   "execution_count": 6,
   "metadata": {},
   "outputs": [
    {
     "data": {
      "text/html": [
       "<div>\n",
       "<style scoped>\n",
       "    .dataframe tbody tr th:only-of-type {\n",
       "        vertical-align: middle;\n",
       "    }\n",
       "\n",
       "    .dataframe tbody tr th {\n",
       "        vertical-align: top;\n",
       "    }\n",
       "\n",
       "    .dataframe thead th {\n",
       "        text-align: right;\n",
       "    }\n",
       "</style>\n",
       "<table border=\"1\" class=\"dataframe\">\n",
       "  <thead>\n",
       "    <tr style=\"text-align: right;\">\n",
       "      <th></th>\n",
       "      <th>Triceps</th>\n",
       "      <th>Thigh</th>\n",
       "      <th>Midarm</th>\n",
       "      <th>New Cluster</th>\n",
       "    </tr>\n",
       "  </thead>\n",
       "  <tbody>\n",
       "    <tr>\n",
       "      <th>0</th>\n",
       "      <td>19.5</td>\n",
       "      <td>43.1</td>\n",
       "      <td>29.1</td>\n",
       "      <td>Cluster 2</td>\n",
       "    </tr>\n",
       "    <tr>\n",
       "      <th>1</th>\n",
       "      <td>24.7</td>\n",
       "      <td>49.8</td>\n",
       "      <td>28.2</td>\n",
       "      <td>Cluster 1</td>\n",
       "    </tr>\n",
       "    <tr>\n",
       "      <th>2</th>\n",
       "      <td>30.7</td>\n",
       "      <td>51.9</td>\n",
       "      <td>37.0</td>\n",
       "      <td>Cluster 1</td>\n",
       "    </tr>\n",
       "    <tr>\n",
       "      <th>3</th>\n",
       "      <td>29.8</td>\n",
       "      <td>54.3</td>\n",
       "      <td>31.1</td>\n",
       "      <td>Cluster 1</td>\n",
       "    </tr>\n",
       "    <tr>\n",
       "      <th>4</th>\n",
       "      <td>19.1</td>\n",
       "      <td>42.2</td>\n",
       "      <td>30.9</td>\n",
       "      <td>Cluster 2</td>\n",
       "    </tr>\n",
       "  </tbody>\n",
       "</table>\n",
       "</div>"
      ],
      "text/plain": [
       "   Triceps  Thigh  Midarm New Cluster\n",
       "0     19.5   43.1    29.1   Cluster 2\n",
       "1     24.7   49.8    28.2   Cluster 1\n",
       "2     30.7   51.9    37.0   Cluster 1\n",
       "3     29.8   54.3    31.1   Cluster 1\n",
       "4     19.1   42.2    30.9   Cluster 2"
      ]
     },
     "execution_count": 6,
     "metadata": {},
     "output_type": "execute_result"
    }
   ],
   "source": [
    "#Create KMeans with 2 Clusters\n",
    "\n",
    "#Apply KMeans clustering\n",
    "kmeans = KMeans(n_clusters = 2, init = 'k-means++', max_iter = 300, n_init = 10, random_state = 100)\n",
    "y_kmeans = kmeans.fit_predict(data_transformed)\n",
    "\n",
    "#Add Prediction column to dataset\n",
    "dataset2= dataset.drop('Bodyfat', axis=1)\n",
    "dataset2['New Cluster']=kmeans.labels_\n",
    "dataset2['New Cluster'] = dataset2['New Cluster'].map({0:'Cluster 1', 1:'Cluster 2'}) \n",
    "dataset2.head()"
   ]
  },
  {
   "cell_type": "code",
   "execution_count": 7,
   "metadata": {},
   "outputs": [
    {
     "data": {
      "text/plain": [
       "<matplotlib.legend.Legend at 0x2cc5b067940>"
      ]
     },
     "execution_count": 7,
     "metadata": {},
     "output_type": "execute_result"
    },
    {
     "data": {
      "image/png": "[encoded data removed]",
      "text/plain": [
       "<Figure size 432x288 with 1 Axes>"
      ]
     },
     "metadata": {
      "needs_background": "light"
     },
     "output_type": "display_data"
    }
   ],
   "source": [
    "#Plot of 2 Clusters\n",
    "plt.scatter(data_transformed[y_kmeans == 0, 0], data_transformed[y_kmeans == 0, 1], s = 100, c = 'green', label = 'Cluster 1')\n",
    "plt.scatter(data_transformed[y_kmeans == 1, 0], data_transformed[y_kmeans == 1, 1], s = 100, c = 'red', label = 'Cluster 2')\n",
    "plt.scatter(kmeans.cluster_centers_[:, 0], kmeans.cluster_centers_[:,1], s = 100, c = 'yellow', label = 'Centroids')\n",
    "#Legend\n",
    "plt.legend(bbox_to_anchor=(1.05, 1), loc=2)"
   ]
  }
 ],
 "metadata": {
  "kernelspec": {
   "display_name": "Python 3",
   "language": "python",
   "name": "python3"
  },
  "language_info": {
   "codemirror_mode": {
    "name": "ipython",
    "version": 3
   },
   "file_extension": ".py",
   "mimetype": "text/x-python",
   "name": "python",
   "nbconvert_exporter": "python",
   "pygments_lexer": "ipython3",
   "version": "3.8.8"
  }
 },
 "nbformat": 4,
 "nbformat_minor": 2
}
